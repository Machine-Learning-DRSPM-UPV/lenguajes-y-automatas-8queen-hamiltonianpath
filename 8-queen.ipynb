{
 "cells": [
  {
   "cell_type": "markdown",
   "id": "e37089d2-fa87-4632-9023-80eea680bec2",
   "metadata": {},
   "source": [
    "# Problema de las n-reynas\n",
    "\n",
    "Implemente un programa que reciba una $n$ cantidad de reynas, las cuales deberán ser acomodadas en un tablero de ajedrez de $n x n$, sin que entre éstas de eliminen. El programa deberá ser implementado utilizando la técnica de backtracking (vuelta atrás).\n",
    "\n",
    "  > Cantidad de punto a recuperar: 5\n",
    "  \n",
    "**Notas**\n",
    "  * No se permiten códigos sacados de internet.\n",
    "  \n",
    "  > Puntos por penalización: -5"
   ]
  },
  {
   "cell_type": "code",
   "execution_count": null,
   "id": "ca69e61c-1862-4881-98af-04c0e0ad3640",
   "metadata": {},
   "outputs": [],
   "source": []
  }
 ],
 "metadata": {
  "kernelspec": {
   "display_name": "Python 3",
   "language": "python",
   "name": "python3"
  },
  "language_info": {
   "codemirror_mode": {
    "name": "ipython",
    "version": 3
   },
   "file_extension": ".py",
   "mimetype": "text/x-python",
   "name": "python",
   "nbconvert_exporter": "python",
   "pygments_lexer": "ipython3",
   "version": "3.8.12"
  }
 },
 "nbformat": 4,
 "nbformat_minor": 5
}
