{
 "cells": [
  {
   "cell_type": "markdown",
   "id": "6a8e4fe3-2c6a-4409-b5de-64a6b2e94ba6",
   "metadata": {},
   "source": [
    "# Caminos y Circuitos Hamiltonianos.\n",
    "\n",
    "Implemente un programa, que reciba un grafo cualquiera, y que a travéz de backtracking y recursividad encuentre el camino o circuito hamiltoniano. Se deberá realizar teniendo en cuenta los siguientes requerimientos:\n",
    "\n",
    "  * El grafo deberá ser leído desde un archivo json.\n",
    "  * Se deberán implementar utilizando backtracking y recursividad.\n",
    "  * Se deberá mostrar el grafo original y el camino hamiltoniano (si existe) resultante superpuesto a él.\n",
    "  \n",
    "  > Puntos a recuperar: 20\n",
    "  \n",
    "**Notas**\n",
    "  * No se permiten utilizar las funciones de networkx, sólo para mostrar el grafo. \n",
    "  * No se permitirán códigos de internet.\n",
    "  \n",
    "  > Puntos por penalización: -20"
   ]
  },
  {
   "cell_type": "code",
   "execution_count": null,
   "id": "3c5da6fa-b3fa-44ff-b125-db28e3f8e7d0",
   "metadata": {},
   "outputs": [],
   "source": []
  }
 ],
 "metadata": {
  "kernelspec": {
   "display_name": "Python 3",
   "language": "python",
   "name": "python3"
  },
  "language_info": {
   "codemirror_mode": {
    "name": "ipython",
    "version": 3
   },
   "file_extension": ".py",
   "mimetype": "text/x-python",
   "name": "python",
   "nbconvert_exporter": "python",
   "pygments_lexer": "ipython3",
   "version": "3.8.12"
  }
 },
 "nbformat": 4,
 "nbformat_minor": 5
}
